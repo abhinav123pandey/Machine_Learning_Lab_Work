{
  "nbformat": 4,
  "nbformat_minor": 0,
  "metadata": {
    "colab": {
      "provenance": [],
      "authorship_tag": "ABX9TyOasO0HMAwxGG3w06MwCr18",
      "include_colab_link": true
    },
    "kernelspec": {
      "name": "python3",
      "display_name": "Python 3"
    },
    "language_info": {
      "name": "python"
    }
  },
  "cells": [
    {
      "cell_type": "markdown",
      "metadata": {
        "id": "view-in-github",
        "colab_type": "text"
      },
      "source": [
        "<a href=\"https://colab.research.google.com/github/abhinav123pandey/Machine_Learning_Lab_Work/blob/main/Lab4.ipynb\" target=\"_parent\"><img src=\"https://colab.research.google.com/assets/colab-badge.svg\" alt=\"Open In Colab\"/></a>"
      ]
    },
    {
      "cell_type": "markdown",
      "source": [
        "Name- Abhinav Pandey\n",
        "\n",
        "Roll No.- 2315000040\n",
        "\n",
        "Cl. Roll No.- 01"
      ],
      "metadata": {
        "id": "Onz5mgXGIQuy"
      }
    },
    {
      "cell_type": "code",
      "source": [
        "import numpy as np\n",
        "\n",
        "def mle_binomial_p(k, n):\n",
        "    \"\"\"\n",
        "    Calculates the Maximum Likelihood Estimate (MLE) for the success probability 'p'\n",
        "    of a binomial distribution.\n",
        "\n",
        "    Args:\n",
        "        k (int): The number of observed successes.\n",
        "        n (int): The total number of trials.\n",
        "\n",
        "    Returns:\n",
        "        float: The MLE of the success probability 'p'.\n",
        "    \"\"\"\n",
        "    if not isinstance(k, int) or not isinstance(n, int):\n",
        "        raise TypeError(\"k and n must be integers.\")\n",
        "    if k < 0 or n < 0:\n",
        "        raise ValueError(\"k and n must be non-negative.\")\n",
        "    if k > n:\n",
        "        raise ValueError(\"k cannot be greater than n.\")\n",
        "    if n == 0:\n",
        "        return np.nan # Undefined if no trials\n",
        "\n",
        "    return k / n\n",
        "\n",
        "# Example Usage:\n",
        "num_successes = 70\n",
        "num_trials = 100\n",
        "\n",
        "estimated_p = mle_binomial_p(num_successes, num_trials)\n",
        "print(f\"Number of successes (k): {num_successes}\")\n",
        "print(f\"Number of trials (n): {num_trials}\")\n",
        "print(f\"MLE of success probability (p_hat): {estimated_p}\")\n",
        "\n",
        "# Another example\n",
        "num_successes_2 = 5\n",
        "num_trials_2 = 20\n",
        "estimated_p_2 = mle_binomial_p(num_successes_2, num_trials_2)\n",
        "print(f\"\\nNumber of successes (k): {num_successes_2}\")\n",
        "print(f\"Number of trials (n): {num_trials_2}\")\n",
        "print(f\"MLE of success probability (p_hat): {estimated_p_2}\")\n"
      ],
      "metadata": {
        "colab": {
          "base_uri": "https://localhost:8080/"
        },
        "id": "AcgV3KtcIZJp",
        "outputId": "10d71ab7-56e7-455a-b2d1-279dc51086ab"
      },
      "execution_count": 4,
      "outputs": [
        {
          "output_type": "stream",
          "name": "stdout",
          "text": [
            "Number of successes (k): 70\n",
            "Number of trials (n): 100\n",
            "MLE of success probability (p_hat): 0.7\n",
            "\n",
            "Number of successes (k): 5\n",
            "Number of trials (n): 20\n",
            "MLE of success probability (p_hat): 0.25\n"
          ]
        }
      ]
    }
  ]
}