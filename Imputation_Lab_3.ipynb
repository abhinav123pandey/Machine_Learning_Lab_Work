{
  "nbformat": 4,
  "nbformat_minor": 0,
  "metadata": {
    "colab": {
      "provenance": [],
      "authorship_tag": "ABX9TyMmGqFxn5mzApCzJ0kJQzW4",
      "include_colab_link": true
    },
    "kernelspec": {
      "name": "python3",
      "display_name": "Python 3"
    },
    "language_info": {
      "name": "python"
    }
  },
  "cells": [
    {
      "cell_type": "markdown",
      "metadata": {
        "id": "view-in-github",
        "colab_type": "text"
      },
      "source": [
        "<a href=\"https://colab.research.google.com/github/abhinav123pandey/Machine_Learning_Lab_Work/blob/main/Imputation_Lab_3.ipynb\" target=\"_parent\"><img src=\"https://colab.research.google.com/assets/colab-badge.svg\" alt=\"Open In Colab\"/></a>"
      ]
    },
    {
      "cell_type": "code",
      "execution_count": 1,
      "metadata": {
        "colab": {
          "base_uri": "https://localhost:8080/"
        },
        "id": "qozX5ciIxMbg",
        "outputId": "98db7ee1-c6c7-4aec-ffb6-6ad72c814bfb"
      },
      "outputs": [
        {
          "output_type": "stream",
          "name": "stdout",
          "text": [
            "Hello world!\n"
          ]
        }
      ],
      "source": [
        "print(\"Hello world!\")"
      ]
    },
    {
      "cell_type": "markdown",
      "source": [
        "Name-  Abhinav Pandey\n",
        "\n",
        "Roll No.- 2315000040\n",
        "\n",
        "Cl. Roll No.- 01\n",
        "\n",
        "\n",
        "\n",
        "\n",
        "\n",
        "IRIS Dataset\n",
        "\tRemove 10 datapoints\n",
        "\n",
        "List=[………………….]\n",
        "\n",
        "\tReplace 0 with imputation\n",
        "\n",
        "\tDifference between imputed & activated\n",
        "\n",
        "1-\tCentral Tendencies\n"
      ],
      "metadata": {
        "id": "1BVa473iznRN"
      }
    },
    {
      "cell_type": "code",
      "source": [
        "import pandas as pd\n",
        "from sklearn.impute import SimpleImputer\n",
        "\n",
        "df = pd.read_csv('https://raw.githubusercontent.com/venky14/Machine-Learning-with-Iris-Dataset/refs/heads/master/Iris.csv')\n",
        "print(df)\n",
        "\n",
        "df2 = df.drop(index=range(10)).reset_index(drop=True)\n",
        "df2.iloc[0:5, 1] = 0\n",
        "df_copy = df2.copy()\n",
        "\n",
        "num_cols = df2.select_dtypes(include='number')\n",
        "cat_cols = df2.select_dtypes(exclude='number')\n",
        "\n",
        "imp = SimpleImputer(missing_values=0, strategy='mean')\n",
        "num_imputed = pd.DataFrame(imp.fit_transform(num_cols), columns=num_cols.columns)\n",
        "\n",
        "df_imputed = pd.concat([num_imputed, cat_cols.reset_index(drop=True)], axis=1)\n",
        "\n",
        "mean_val = num_imputed.mean()\n",
        "median_val= num_imputed.median()\n",
        "mode_val = num_imputed.mode().iloc[0]\n",
        "\n",
        "diff = num_imputed - num_cols\n",
        "\n",
        "print(\"\\nCentral Tendency\")\n",
        "print(\"Mean:\\n\", mean_val)\n",
        "print(\"Median:\\n\", median_val)\n",
        "print(\"Mode:\\n\", mode_val)\n",
        "print(\"\\nDifference:\\n\", diff.head(10))"
      ],
      "metadata": {
        "colab": {
          "base_uri": "https://localhost:8080/"
        },
        "id": "wXu6FxMtzwI7",
        "outputId": "4d60ea86-1474-4050-8e55-22174d569b39"
      },
      "execution_count": 3,
      "outputs": [
        {
          "output_type": "stream",
          "name": "stdout",
          "text": [
            "      Id  SepalLengthCm  SepalWidthCm  PetalLengthCm  PetalWidthCm  \\\n",
            "0      1            5.1           3.5            1.4           0.2   \n",
            "1      2            4.9           3.0            1.4           0.2   \n",
            "2      3            4.7           3.2            1.3           0.2   \n",
            "3      4            4.6           3.1            1.5           0.2   \n",
            "4      5            5.0           3.6            1.4           0.2   \n",
            "..   ...            ...           ...            ...           ...   \n",
            "145  146            6.7           3.0            5.2           2.3   \n",
            "146  147            6.3           2.5            5.0           1.9   \n",
            "147  148            6.5           3.0            5.2           2.0   \n",
            "148  149            6.2           3.4            5.4           2.3   \n",
            "149  150            5.9           3.0            5.1           1.8   \n",
            "\n",
            "            Species  \n",
            "0       Iris-setosa  \n",
            "1       Iris-setosa  \n",
            "2       Iris-setosa  \n",
            "3       Iris-setosa  \n",
            "4       Iris-setosa  \n",
            "..              ...  \n",
            "145  Iris-virginica  \n",
            "146  Iris-virginica  \n",
            "147  Iris-virginica  \n",
            "148  Iris-virginica  \n",
            "149  Iris-virginica  \n",
            "\n",
            "[150 rows x 6 columns]\n",
            "\n",
            "Central Tendency\n",
            "Mean:\n",
            " Id               80.500000\n",
            "SepalLengthCm     5.946667\n",
            "SepalWidthCm      3.035714\n",
            "PetalLengthCm     3.923571\n",
            "PetalWidthCm      1.268571\n",
            "dtype: float64\n",
            "Median:\n",
            " Id               80.500000\n",
            "SepalLengthCm     5.946667\n",
            "SepalWidthCm      3.000000\n",
            "PetalLengthCm     4.500000\n",
            "PetalWidthCm      1.400000\n",
            "dtype: float64\n",
            "Mode:\n",
            " Id               11.0\n",
            "SepalLengthCm     6.3\n",
            "SepalWidthCm      3.0\n",
            "PetalLengthCm     1.5\n",
            "PetalWidthCm      0.2\n",
            "Name: 0, dtype: float64\n",
            "\n",
            "Difference:\n",
            "     Id  SepalLengthCm  SepalWidthCm  PetalLengthCm  PetalWidthCm\n",
            "0  0.0       5.946667           0.0            0.0           0.0\n",
            "1  0.0       5.946667           0.0            0.0           0.0\n",
            "2  0.0       5.946667           0.0            0.0           0.0\n",
            "3  0.0       5.946667           0.0            0.0           0.0\n",
            "4  0.0       5.946667           0.0            0.0           0.0\n",
            "5  0.0       0.000000           0.0            0.0           0.0\n",
            "6  0.0       0.000000           0.0            0.0           0.0\n",
            "7  0.0       0.000000           0.0            0.0           0.0\n",
            "8  0.0       0.000000           0.0            0.0           0.0\n",
            "9  0.0       0.000000           0.0            0.0           0.0\n"
          ]
        }
      ]
    }
  ]
}