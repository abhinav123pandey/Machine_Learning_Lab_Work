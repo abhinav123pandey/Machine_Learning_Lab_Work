{
  "nbformat": 4,
  "nbformat_minor": 0,
  "metadata": {
    "colab": {
      "provenance": [],
      "authorship_tag": "ABX9TyPuU3inLg9NxxADnnAgLGS5",
      "include_colab_link": true
    },
    "kernelspec": {
      "name": "python3",
      "display_name": "Python 3"
    },
    "language_info": {
      "name": "python"
    }
  },
  "cells": [
    {
      "cell_type": "markdown",
      "metadata": {
        "id": "view-in-github",
        "colab_type": "text"
      },
      "source": [
        "<a href=\"https://colab.research.google.com/github/abhinav123pandey/Machine_Learning_Lab_Work/blob/main/Lab7(Naive_questions).ipynb\" target=\"_parent\"><img src=\"https://colab.research.google.com/assets/colab-badge.svg\" alt=\"Open In Colab\"/></a>"
      ]
    },
    {
      "cell_type": "markdown",
      "source": [
        "Name- Abhinav Pandey\n",
        "\n",
        "Roll No.- 2315000040\n",
        "\n",
        "Cl. Roll No.- 01\n",
        "\n",
        "\n",
        "Compute probability of a person to be diabetic based on a given dataset of diabetic persons using Naïve Bayesian classifier"
      ],
      "metadata": {
        "id": "AQbVF7ozRuVw"
      }
    },
    {
      "cell_type": "code",
      "source": [
        "import pandas as pd\n",
        "from sklearn.model_selection import train_test_split\n",
        "from sklearn.naive_bayes import GaussianNB\n",
        "\n",
        "# 1. Create a sample dataset (replace with your actual dataset loading)\n",
        "data = {\n",
        "    'Glucose': [140, 100, 180, 90, 150, 110, 190, 80, 160, 120],\n",
        "    'BloodPressure': [80, 70, 90, 60, 85, 75, 95, 65, 88, 72],\n",
        "    'BMI': [30, 25, 35, 22, 32, 28, 38, 20, 33, 26],\n",
        "    'Outcome': [1, 0, 1, 0, 1, 0, 1, 0, 1, 0]  # 1 for diabetic, 0 for non-diabetic\n",
        "}\n",
        "df = pd.DataFrame(data)\n",
        "\n",
        "# 2. Separate features (X) and target variable (y)\n",
        "X = df[['Glucose', 'BloodPressure', 'BMI']]\n",
        "y = df['Outcome']\n",
        "\n",
        "# 3. Initialize and train the Gaussian Naïve Bayes classifier\n",
        "model = GaussianNB()\n",
        "model.fit(X, y)\n",
        "\n",
        "# 4. Make predictions on the test set\n",
        "y_pred = model.predict(X)\n",
        "\n",
        "# 5. Predict the probability for a new person\n",
        "# Example: A person with Glucose=130, BloodPressure=78, BMI=29\n",
        "new_person_data = pd.DataFrame([[130, 78, 29]], columns=['Glucose', 'BloodPressure', 'BMI'])\n",
        "probabilities = model.predict_proba(new_person_data)\n",
        "\n",
        "print(f\"\\nProbability of not being diabetic (Outcome=0): {probabilities[0][0]:.2f}\")\n",
        "print(f\"Probability of being diabetic (Outcome=1): {probabilities[0][1]:.2f}\")\n"
      ],
      "metadata": {
        "colab": {
          "base_uri": "https://localhost:8080/"
        },
        "id": "xjvKyMuTRu1D",
        "outputId": "b2a78a1e-bd9f-4a77-8636-d141e5273968"
      },
      "execution_count": 1,
      "outputs": [
        {
          "output_type": "stream",
          "name": "stdout",
          "text": [
            "\n",
            "Probability of not being diabetic (Outcome=0): 0.45\n",
            "Probability of being diabetic (Outcome=1): 0.55\n"
          ]
        }
      ]
    }
  ]
}