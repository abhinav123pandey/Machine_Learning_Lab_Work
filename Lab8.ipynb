{
  "nbformat": 4,
  "nbformat_minor": 0,
  "metadata": {
    "colab": {
      "provenance": [],
      "authorship_tag": "ABX9TyMajLtoiPDUAwr5jcY4PDYW",
      "include_colab_link": true
    },
    "kernelspec": {
      "name": "python3",
      "display_name": "Python 3"
    },
    "language_info": {
      "name": "python"
    }
  },
  "cells": [
    {
      "cell_type": "markdown",
      "metadata": {
        "id": "view-in-github",
        "colab_type": "text"
      },
      "source": [
        "<a href=\"https://colab.research.google.com/github/abhinav123pandey/Machine_Learning_Lab_Work/blob/main/Lab8.ipynb\" target=\"_parent\"><img src=\"https://colab.research.google.com/assets/colab-badge.svg\" alt=\"Open In Colab\"/></a>"
      ]
    },
    {
      "cell_type": "markdown",
      "source": [
        "Name- Abhinav Pandey\n",
        "\n",
        "Roll No.- 2315000040\n",
        "\n",
        "Cl. Roll No.- 01\n",
        "\n",
        "\n",
        "Exp5- Label encoding and One-Hot Encoding\n"
      ],
      "metadata": {
        "id": "NhiXdeViP0fa"
      }
    },
    {
      "cell_type": "code",
      "source": [
        "# (a) Label Encoding\n",
        "from sklearn.preprocessing import LabelEncoder\n",
        "import pandas as pd\n",
        "\n",
        "# Sample data\n",
        "data = {'Category': ['Red', 'Green', 'Blue', 'Red', 'Green', 'Yellow']}\n",
        "df = pd.DataFrame(data)\n",
        "\n",
        "print(\"Original DataFrame:\")\n",
        "print(df)\n",
        "\n",
        "# Initialize LabelEncoder\n",
        "label_encoder = LabelEncoder()\n",
        "\n",
        "# Fit and transform the 'Category' column\n",
        "df['Category_Encoded'] = label_encoder.fit_transform(df['Category'])\n",
        "\n",
        "print(\"\\nDataFrame after Label Encoding:\")\n",
        "print(df)\n",
        "\n",
        "# To view the mapping of original categories to encoded labels\n",
        "print(\"\\nMapping of Categories to Encoded Labels:\")\n",
        "for i, category in enumerate(label_encoder.classes_):\n",
        "    print(f\"{category}: {i}\")\n",
        "\n",
        "# To inverse transform the encoded labels back to original categories\n",
        "encoded_labels = df['Category_Encoded'].values\n",
        "original_categories = label_encoder.inverse_transform(encoded_labels)\n",
        "print(\"\\nInverse transformed labels back to original categories:\")\n",
        "print(original_categories)\n",
        "\n",
        "# (b) One-hot encoding\n",
        "import pandas as pd\n",
        "data = {'Color': ['Red', 'Green', 'Blue', 'Red', 'Green']}\n",
        "df = pd.DataFrame(data)\n",
        "\n",
        "# Apply one-hot encoding\n",
        "df_encoded = pd.get_dummies(df, columns=['Color'])\n",
        "\n",
        "print(df_encoded)\n",
        "print(df_encoded.astype(int))\n"
      ],
      "metadata": {
        "colab": {
          "base_uri": "https://localhost:8080/"
        },
        "id": "jRWbcY0NQHMA",
        "outputId": "2993c8e3-0c0e-460c-c922-ede6f0bae910"
      },
      "execution_count": 1,
      "outputs": [
        {
          "output_type": "stream",
          "name": "stdout",
          "text": [
            "Original DataFrame:\n",
            "  Category\n",
            "0      Red\n",
            "1    Green\n",
            "2     Blue\n",
            "3      Red\n",
            "4    Green\n",
            "5   Yellow\n",
            "\n",
            "DataFrame after Label Encoding:\n",
            "  Category  Category_Encoded\n",
            "0      Red                 2\n",
            "1    Green                 1\n",
            "2     Blue                 0\n",
            "3      Red                 2\n",
            "4    Green                 1\n",
            "5   Yellow                 3\n",
            "\n",
            "Mapping of Categories to Encoded Labels:\n",
            "Blue: 0\n",
            "Green: 1\n",
            "Red: 2\n",
            "Yellow: 3\n",
            "\n",
            "Inverse transformed labels back to original categories:\n",
            "['Red' 'Green' 'Blue' 'Red' 'Green' 'Yellow']\n",
            "   Color_Blue  Color_Green  Color_Red\n",
            "0       False        False       True\n",
            "1       False         True      False\n",
            "2        True        False      False\n",
            "3       False        False       True\n",
            "4       False         True      False\n",
            "   Color_Blue  Color_Green  Color_Red\n",
            "0           0            0          1\n",
            "1           0            1          0\n",
            "2           1            0          0\n",
            "3           0            0          1\n",
            "4           0            1          0\n"
          ]
        }
      ]
    }
  ]
}