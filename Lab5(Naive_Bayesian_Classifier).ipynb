{
  "nbformat": 4,
  "nbformat_minor": 0,
  "metadata": {
    "colab": {
      "provenance": [],
      "authorship_tag": "ABX9TyPqEu62LyyfGskcnx17GZC6",
      "include_colab_link": true
    },
    "kernelspec": {
      "name": "python3",
      "display_name": "Python 3"
    },
    "language_info": {
      "name": "python"
    }
  },
  "cells": [
    {
      "cell_type": "markdown",
      "metadata": {
        "id": "view-in-github",
        "colab_type": "text"
      },
      "source": [
        "<a href=\"https://colab.research.google.com/github/abhinav123pandey/Machine_Learning_Lab_Work/blob/main/Lab5(Naive_Bayesian_Classifier).ipynb\" target=\"_parent\"><img src=\"https://colab.research.google.com/assets/colab-badge.svg\" alt=\"Open In Colab\"/></a>"
      ]
    },
    {
      "cell_type": "markdown",
      "source": [
        "Name- Abhinav Pandey\n",
        "\n",
        "Roll No.- 2315000040\n",
        "\n",
        "Cl. Roll No.- 01"
      ],
      "metadata": {
        "id": "ww1QNzGcHyQn"
      }
    },
    {
      "cell_type": "code",
      "source": [
        "# 3. Classify a person as male or female based on a given dataset using naïve Bayesian   Classifier, and calculate accuracy, precision, and recall for your data set\n",
        "\n",
        "import pandas as pd\n",
        "from sklearn.model_selection import train_test_split\n",
        "from sklearn.naive_bayes import GaussianNB\n",
        "from sklearn.metrics import accuracy_score, precision_score, recall_score, classification_report\n",
        "\n",
        "# 1. Create a synthetic dataset (replace with your actual dataset)\n",
        "data = {\n",
        "    'height_cm': [170, 165, 180, 160, 175, 155, 185, 168],\n",
        "    'weight_kg': [70, 55, 85, 50, 78, 48, 90, 60],\n",
        "    'foot_size_cm': [28, 24, 30, 23, 29, 22, 31, 25],\n",
        "    'gender': ['Male', 'Female', 'Male', 'Female', 'Male', 'Female', 'Male', 'Female']\n",
        "}\n",
        "df = pd.DataFrame(data)\n",
        "\n",
        "# Convert 'gender' to numerical labels\n",
        "df['gender'] = df['gender'].map({'Male': 1, 'Female': 0})\n",
        "\n",
        "# Separate features (X) and target (y)\n",
        "X = df[['height_cm', 'weight_kg', 'foot_size_cm']]\n",
        "y = df['gender']\n",
        "\n",
        "# 2. Split data into training and testing sets\n",
        "X_train, X_test, y_train, y_test = train_test_split(X, y, test_size=0.3, random_state=42)\n",
        "\n",
        "# 3. Initialize and train the Naive Bayes Classifier (Gaussian Naive Bayes for continuous data)\n",
        "model = GaussianNB()\n",
        "model.fit(X_train, y_train)\n",
        "\n",
        "# 4. Make predictions on the test set\n",
        "y_pred = model.predict(X_test)\n",
        "\n",
        "# 5. Calculate and print evaluation metrics\n",
        "print(f\"Accuracy: {accuracy_score(y_test, y_pred):.2f}\")\n",
        "print(f\"Precision (Male): {precision_score(y_test, y_pred, pos_label=1):.2f}\")\n",
        "print(f\"Recall (Male): {recall_score(y_test, y_pred, pos_label=1):.2f}\")\n",
        "\n",
        "#6 For a more detailed report including both classes\n",
        "print(\"\\nClassification Report:\")\n",
        "print(classification_report(y_test, y_pred, target_names=['Female', 'Male']))\n",
        "\n",
        "#7 You can also make a prediction on a new, unseen sample\n",
        "new_sample = [[160, 48, 21],[180, 55, 30],[140, 46, 28]]\n",
        " # Example new sample\n",
        "predicted_class = model.predict(new_sample)\n",
        "print(f\"Predicted class for new sample: {predicted_class:}\")\n"
      ],
      "metadata": {
        "colab": {
          "base_uri": "https://localhost:8080/"
        },
        "id": "rPtKUmSQHzZb",
        "outputId": "03f3b945-4793-43a1-93ca-e646de1160ba"
      },
      "execution_count": 1,
      "outputs": [
        {
          "output_type": "stream",
          "name": "stdout",
          "text": [
            "Accuracy: 1.00\n",
            "Precision (Male): 1.00\n",
            "Recall (Male): 1.00\n",
            "\n",
            "Classification Report:\n",
            "              precision    recall  f1-score   support\n",
            "\n",
            "      Female       1.00      1.00      1.00         2\n",
            "        Male       1.00      1.00      1.00         1\n",
            "\n",
            "    accuracy                           1.00         3\n",
            "   macro avg       1.00      1.00      1.00         3\n",
            "weighted avg       1.00      1.00      1.00         3\n",
            "\n",
            "Predicted class for new sample: [0 1 0]\n"
          ]
        },
        {
          "output_type": "stream",
          "name": "stderr",
          "text": [
            "/usr/local/lib/python3.12/dist-packages/sklearn/utils/validation.py:2739: UserWarning: X does not have valid feature names, but GaussianNB was fitted with feature names\n",
            "  warnings.warn(\n"
          ]
        }
      ]
    }
  ]
}